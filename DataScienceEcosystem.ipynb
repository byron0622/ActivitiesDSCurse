{
 "cells": [
  {
   "cell_type": "markdown",
   "id": "845b0a3f-b20a-44a3-9ca1-df3c37f41f48",
   "metadata": {},
   "source": [
    "# Data Science Tools and Ecosystem "
   ]
  },
  {
   "cell_type": "markdown",
   "id": "ffcf9cd7-0b0f-45aa-9259-c21498b192da",
   "metadata": {
    "jp-MarkdownHeadingCollapsed": true
   },
   "source": [
    "### ***Objetivos***\n",
    "* Learn about the most popular languages for Data Science\n",
    "* Learn about the most commonly used libraries in Data Science\n",
    "* Learn about open-source development environments for Data Science\n",
    "* See some examples of arithmetic usage in Notebook\n"
   ]
  },
  {
   "cell_type": "markdown",
   "id": "520e848c-cc7e-4f4e-9b4a-b047d4a6613f",
   "metadata": {},
   "source": [
    "### In this notebook, Data Science Tools and Ecosystem are summarized."
   ]
  },
  {
   "cell_type": "markdown",
   "id": "09293d49-eb43-4e55-8569-c8075f13a1f2",
   "metadata": {},
   "source": [
    "### Some of the popular languages that Data Scientists use are:\n",
    "\n",
    "1. Python\n",
    "2. R\n",
    "3. SQL\n",
    "4. Julia\n",
    "5. Scala\n",
    "\n"
   ]
  },
  {
   "cell_type": "markdown",
   "id": "613ef69b-8ab7-4595-8e62-f774353053e0",
   "metadata": {},
   "source": [
    "### Some of the commonly used libraries used by Data Scientists include:\n",
    "\n",
    "1. Numpy\n",
    "2. Matplotlib\n",
    "3. Pandas\n",
    "4. tensorflow\n",
    "5. dplyr(R)\n",
    "6. ggplot(R)\n",
    "7. caret(R)\n"
   ]
  },
  {
   "cell_type": "markdown",
   "id": "4f654d53-a1e4-4d37-ac53-14d474e78dd9",
   "metadata": {},
   "source": [
    "|Data Science Tools|\n",
    "|-------------------|\n",
    "|Jupyter Notebook|\n",
    "|RStudio|\n",
    "|VSCode|"
   ]
  },
  {
   "cell_type": "code",
   "execution_count": 6,
   "id": "b0da9b0f-9c82-4492-a32b-3aa079bdf06a",
   "metadata": {},
   "outputs": [
    {
     "data": {
      "text/plain": [
       "17"
      ]
     },
     "execution_count": 6,
     "metadata": {},
     "output_type": "execute_result"
    }
   ],
   "source": [
    "#This a simple arithmetic expression to mutiply then add integers\n",
    "(3*4)+5"
   ]
  },
  {
   "cell_type": "code",
   "execution_count": 30,
   "id": "9d5375d7-f4d9-4294-9de1-514e5bfc6fd4",
   "metadata": {},
   "outputs": [
    {
     "data": {
      "text/plain": [
       "3.3333333333333335"
      ]
     },
     "execution_count": 30,
     "metadata": {},
     "output_type": "execute_result"
    }
   ],
   "source": [
    "#This will convert 200 minutes to hours by diving by 60\n",
    "200/60"
   ]
  },
  {
   "cell_type": "markdown",
   "id": "19929f0f-0ea5-4c3b-8e5a-a14c2231e7fe",
   "metadata": {},
   "source": [
    "## Author\n",
    "Bayron Osorio Toro"
   ]
  },
  {
   "cell_type": "code",
   "execution_count": null,
   "id": "e8d73ab8-9772-4600-9850-07dc154d9844",
   "metadata": {},
   "outputs": [],
   "source": []
  }
 ],
 "metadata": {
  "kernelspec": {
   "display_name": "Python 3 (ipykernel)",
   "language": "python",
   "name": "python3"
  },
  "language_info": {
   "codemirror_mode": {
    "name": "ipython",
    "version": 3
   },
   "file_extension": ".py",
   "mimetype": "text/x-python",
   "name": "python",
   "nbconvert_exporter": "python",
   "pygments_lexer": "ipython3",
   "version": "3.12.4"
  }
 },
 "nbformat": 4,
 "nbformat_minor": 5
}
